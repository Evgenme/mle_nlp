{
 "cells": [
  {
   "cell_type": "code",
   "execution_count": 1,
   "metadata": {},
   "outputs": [],
   "source": [
    "import pandas as pd\n",
    "from sklearn.feature_extraction.text import TfidfVectorizer\n",
    "from sklearn.metrics.pairwise import cosine_similarity\n"
   ]
  },
  {
   "cell_type": "code",
   "execution_count": 2,
   "metadata": {},
   "outputs": [
    {
     "data": {
      "text/html": [
       "<div>\n",
       "<style scoped>\n",
       "    .dataframe tbody tr th:only-of-type {\n",
       "        vertical-align: middle;\n",
       "    }\n",
       "\n",
       "    .dataframe tbody tr th {\n",
       "        vertical-align: top;\n",
       "    }\n",
       "\n",
       "    .dataframe thead th {\n",
       "        text-align: right;\n",
       "    }\n",
       "</style>\n",
       "<table border=\"1\" class=\"dataframe\">\n",
       "  <thead>\n",
       "    <tr style=\"text-align: right;\">\n",
       "      <th></th>\n",
       "      <th>claster</th>\n",
       "      <th>lable</th>\n",
       "      <th>phrase</th>\n",
       "      <th>target</th>\n",
       "    </tr>\n",
       "  </thead>\n",
       "  <tbody>\n",
       "    <tr>\n",
       "      <th>0</th>\n",
       "      <td>1</td>\n",
       "      <td>After how many hour from drinking an antibioti...</td>\n",
       "      <td>I have a party tonight and I took my last dose...</td>\n",
       "      <td>1</td>\n",
       "    </tr>\n",
       "    <tr>\n",
       "      <th>1</th>\n",
       "      <td>1</td>\n",
       "      <td>After how many hour from drinking an antibioti...</td>\n",
       "      <td>I vomited this morning and I am not sure if it...</td>\n",
       "      <td>0</td>\n",
       "    </tr>\n",
       "    <tr>\n",
       "      <th>2</th>\n",
       "      <td>1</td>\n",
       "      <td>Am I over weight (192.9) for my age (39)?</td>\n",
       "      <td>I am a 39 y/o male currently weighing about 19...</td>\n",
       "      <td>1</td>\n",
       "    </tr>\n",
       "    <tr>\n",
       "      <th>3</th>\n",
       "      <td>1</td>\n",
       "      <td>Am I over weight (192.9) for my age (39)?</td>\n",
       "      <td>What diet is good for losing weight? Keto or v...</td>\n",
       "      <td>0</td>\n",
       "    </tr>\n",
       "    <tr>\n",
       "      <th>4</th>\n",
       "      <td>1</td>\n",
       "      <td>Aspirin allergy - is it worth getting a bracelet?</td>\n",
       "      <td>How much Aspirin can I take for my headache wi...</td>\n",
       "      <td>0</td>\n",
       "    </tr>\n",
       "  </tbody>\n",
       "</table>\n",
       "</div>"
      ],
      "text/plain": [
       "   claster                                              lable  \\\n",
       "0        1  After how many hour from drinking an antibioti...   \n",
       "1        1  After how many hour from drinking an antibioti...   \n",
       "2        1          Am I over weight (192.9) for my age (39)?   \n",
       "3        1          Am I over weight (192.9) for my age (39)?   \n",
       "4        1  Aspirin allergy - is it worth getting a bracelet?   \n",
       "\n",
       "                                              phrase  target  \n",
       "0  I have a party tonight and I took my last dose...       1  \n",
       "1  I vomited this morning and I am not sure if it...       0  \n",
       "2  I am a 39 y/o male currently weighing about 19...       1  \n",
       "3  What diet is good for losing weight? Keto or v...       0  \n",
       "4  How much Aspirin can I take for my headache wi...       0  "
      ]
     },
     "execution_count": 2,
     "metadata": {},
     "output_type": "execute_result"
    }
   ],
   "source": [
    "# Load the CSV file into a DataFrame\n",
    "file_path = 'G:\\Praktikum\\MLE\\Master_mle\\data\\mqp.csv'\n",
    "df = pd.read_csv(file_path, names=['claster', 'lable', 'phrase', 'target'])\n",
    "\n",
    "df.head()\n"
   ]
  },
  {
   "cell_type": "code",
   "execution_count": 3,
   "metadata": {},
   "outputs": [
    {
     "name": "stdout",
     "output_type": "stream",
     "text": [
      "<class 'pandas.core.frame.DataFrame'>\n",
      "RangeIndex: 3048 entries, 0 to 3047\n",
      "Data columns (total 4 columns):\n",
      " #   Column   Non-Null Count  Dtype \n",
      "---  ------   --------------  ----- \n",
      " 0   claster  3048 non-null   int64 \n",
      " 1   lable    3048 non-null   object\n",
      " 2   phrase   3048 non-null   object\n",
      " 3   target   3048 non-null   int64 \n",
      "dtypes: int64(2), object(2)\n",
      "memory usage: 95.4+ KB\n"
     ]
    },
    {
     "data": {
      "text/plain": [
       "None"
      ]
     },
     "metadata": {},
     "output_type": "display_data"
    }
   ],
   "source": [
    "display(df.info())"
   ]
  },
  {
   "cell_type": "code",
   "execution_count": 4,
   "metadata": {},
   "outputs": [
    {
     "data": {
      "text/plain": [
       "['What are normal levels of ANA in a healthy person?',\n",
       " 'I have abnormal levels of T3 and normal levels of TSH/T4. What are my treatment options if I am currently pregnant?',\n",
       " 'What are some conditions that can cause abnormal levels of T3 but normal levels of T4 and TSH? Can pregnancy also cause it?',\n",
       " 'My vitamin D levels is 29. The doctor advised me to take 2000ius/day and maximum of sun in Fl, so that normal levels of 70-80 can be achieved. Could you tell me, how long would it take to reach the normal levels? ',\n",
       " 'What does a value of ANA 1:160 and RNP 3 mean?']"
      ]
     },
     "execution_count": 4,
     "metadata": {},
     "output_type": "execute_result"
    }
   ],
   "source": [
    "# Initialize the TF-IDF vectorizer\n",
    "vectorizer = TfidfVectorizer()\n",
    "\n",
    "# Encode phrases to TF-IDF vectors\n",
    "phrase_vectors = vectorizer.fit_transform(df['phrase'].tolist())\n",
    "\n",
    "# Function to find the 5 nearest neighbors\n",
    "def find_nearest_neighbors(query, phrase_vectors, data, n_neighbors=5):\n",
    "    query_vector = vectorizer.transform([query])\n",
    "    similarities = cosine_similarity(query_vector, phrase_vectors).flatten()\n",
    "    nearest_indices = similarities.argsort()[-n_neighbors:][::-1]\n",
    "    nearest_phrases = data['phrase'].iloc[nearest_indices].tolist()\n",
    "    return nearest_phrases\n",
    "\n",
    "# Example query\n",
    "query = \"What are normal levels of ANA in a healthy person?\"\n",
    "nearest_neighbors = find_nearest_neighbors(query, phrase_vectors, df)\n",
    "\n",
    "nearest_neighbors"
   ]
  },
  {
   "cell_type": "code",
   "execution_count": 6,
   "metadata": {},
   "outputs": [
    {
     "data": {
      "text/plain": [
       "['What are normal levels of ANA in a healthy person?',\n",
       " 'I have abnormal levels of T3 and normal levels of TSH/T4. What are my treatment options if I am currently pregnant?',\n",
       " 'What are some conditions that can cause abnormal levels of T3 but normal levels of T4 and TSH? Can pregnancy also cause it?',\n",
       " 'My vitamin D levels is 29. The doctor advised me to take 2000ius/day and maximum of sun in Fl, so that normal levels of 70-80 can be achieved. Could you tell me, how long would it take to reach the normal levels? ',\n",
       " 'What does a value of ANA 1:160 and RNP 3 mean?']"
      ]
     },
     "execution_count": 6,
     "metadata": {},
     "output_type": "execute_result"
    }
   ],
   "source": [
    "\n",
    "# Initialize the TF-IDF vectorizer\n",
    "vectorizer = TfidfVectorizer()\n",
    "\n",
    "# Encode phrases to TF-IDF vectors\n",
    "phrase_vectors = vectorizer.fit_transform(df['phrase'].tolist())\n",
    "\n",
    "# Function to find the 5 nearest neighbors\n",
    "def find_nearest_neighbors(query, phrase_vectors, data, n_neighbors=5):\n",
    "    query_vector = vectorizer.transform([query])\n",
    "    similarities = cosine_similarity(query_vector, phrase_vectors).flatten()\n",
    "    nearest_indices = similarities.argsort()[-n_neighbors:][::-1]\n",
    "    nearest_phrases = data['phrase'].iloc[nearest_indices].tolist()\n",
    "    return nearest_phrases\n",
    "\n",
    "# Example query\n",
    "query = \"What are normal levels of ANA in a healthy person?\"\n",
    "nearest_neighbors = find_nearest_neighbors(query, phrase_vectors, df)\n",
    "\n",
    "nearest_neighbors"
   ]
  },
  {
   "cell_type": "code",
   "execution_count": 7,
   "metadata": {},
   "outputs": [
    {
     "data": {
      "text/html": [
       "<div>\n",
       "<style scoped>\n",
       "    .dataframe tbody tr th:only-of-type {\n",
       "        vertical-align: middle;\n",
       "    }\n",
       "\n",
       "    .dataframe tbody tr th {\n",
       "        vertical-align: top;\n",
       "    }\n",
       "\n",
       "    .dataframe thead th {\n",
       "        text-align: right;\n",
       "    }\n",
       "</style>\n",
       "<table border=\"1\" class=\"dataframe\">\n",
       "  <thead>\n",
       "    <tr style=\"text-align: right;\">\n",
       "      <th></th>\n",
       "      <th>claster</th>\n",
       "      <th>lable</th>\n",
       "      <th>phrase</th>\n",
       "      <th>target</th>\n",
       "      <th>similarity</th>\n",
       "    </tr>\n",
       "  </thead>\n",
       "  <tbody>\n",
       "    <tr>\n",
       "      <th>0</th>\n",
       "      <td>1</td>\n",
       "      <td>After how many hour from drinking an antibioti...</td>\n",
       "      <td>I have a party tonight and I took my last dose...</td>\n",
       "      <td>1</td>\n",
       "      <td>0.017511</td>\n",
       "    </tr>\n",
       "    <tr>\n",
       "      <th>1</th>\n",
       "      <td>1</td>\n",
       "      <td>After how many hour from drinking an antibioti...</td>\n",
       "      <td>I vomited this morning and I am not sure if it...</td>\n",
       "      <td>0</td>\n",
       "      <td>0.017564</td>\n",
       "    </tr>\n",
       "    <tr>\n",
       "      <th>2</th>\n",
       "      <td>1</td>\n",
       "      <td>Am I over weight (192.9) for my age (39)?</td>\n",
       "      <td>I am a 39 y/o male currently weighing about 19...</td>\n",
       "      <td>1</td>\n",
       "      <td>0.000000</td>\n",
       "    </tr>\n",
       "    <tr>\n",
       "      <th>3</th>\n",
       "      <td>1</td>\n",
       "      <td>Am I over weight (192.9) for my age (39)?</td>\n",
       "      <td>What diet is good for losing weight? Keto or v...</td>\n",
       "      <td>0</td>\n",
       "      <td>0.020084</td>\n",
       "    </tr>\n",
       "    <tr>\n",
       "      <th>4</th>\n",
       "      <td>1</td>\n",
       "      <td>Aspirin allergy - is it worth getting a bracelet?</td>\n",
       "      <td>How much Aspirin can I take for my headache wi...</td>\n",
       "      <td>0</td>\n",
       "      <td>0.000000</td>\n",
       "    </tr>\n",
       "  </tbody>\n",
       "</table>\n",
       "</div>"
      ],
      "text/plain": [
       "   claster                                              lable  \\\n",
       "0        1  After how many hour from drinking an antibioti...   \n",
       "1        1  After how many hour from drinking an antibioti...   \n",
       "2        1          Am I over weight (192.9) for my age (39)?   \n",
       "3        1          Am I over weight (192.9) for my age (39)?   \n",
       "4        1  Aspirin allergy - is it worth getting a bracelet?   \n",
       "\n",
       "                                              phrase  target  similarity  \n",
       "0  I have a party tonight and I took my last dose...       1    0.017511  \n",
       "1  I vomited this morning and I am not sure if it...       0    0.017564  \n",
       "2  I am a 39 y/o male currently weighing about 19...       1    0.000000  \n",
       "3  What diet is good for losing weight? Keto or v...       0    0.020084  \n",
       "4  How much Aspirin can I take for my headache wi...       0    0.000000  "
      ]
     },
     "execution_count": 7,
     "metadata": {},
     "output_type": "execute_result"
    }
   ],
   "source": [
    "# Function to add similarity scores to the DataFrame\n",
    "def add_similarity_scores(query, phrase_vectors, data):\n",
    "    query_vector = vectorizer.transform([query])\n",
    "    similarities = cosine_similarity(query_vector, phrase_vectors).flatten()\n",
    "    data['similarity'] = similarities\n",
    "    return data\n",
    "\n",
    "# Example query\n",
    "query = \"What are normal levels of ANA in a healthy person?\"\n",
    "data_with_similarity = add_similarity_scores(query, phrase_vectors, df)\n",
    "\n",
    "data_with_similarity.head()"
   ]
  }
 ],
 "metadata": {
  "kernelspec": {
   "display_name": "venv",
   "language": "python",
   "name": "python3"
  },
  "language_info": {
   "codemirror_mode": {
    "name": "ipython",
    "version": 3
   },
   "file_extension": ".py",
   "mimetype": "text/x-python",
   "name": "python",
   "nbconvert_exporter": "python",
   "pygments_lexer": "ipython3",
   "version": "3.9.12"
  }
 },
 "nbformat": 4,
 "nbformat_minor": 2
}
