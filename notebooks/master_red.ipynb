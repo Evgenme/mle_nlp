{
  "nbformat": 4,
  "nbformat_minor": 0,
  "metadata": {
    "colab": {
      "provenance": []
    },
    "kernelspec": {
      "name": "python3",
      "display_name": "Python 3"
    },
    "language_info": {
      "name": "python"
    }
  },
  "cells": [
    {
      "cell_type": "code",
      "execution_count": null,
      "metadata": {
        "id": "G9ZbVZ7v91vk"
      },
      "outputs": [],
      "source": [
        "import pandas as pd\n",
        "import re"
      ]
    },
    {
      "cell_type": "code",
      "source": [
        "f = open(\"Little Red Riding Hood.txt\")"
      ],
      "metadata": {
        "id": "Yx_z5r8sBx2T"
      },
      "execution_count": null,
      "outputs": []
    },
    {
      "cell_type": "code",
      "source": [
        "orig_text = f.read()"
      ],
      "metadata": {
        "id": "tqJ5Y36pCaQR"
      },
      "execution_count": null,
      "outputs": []
    },
    {
      "cell_type": "code",
      "source": [
        "rsp = re.split('(\\n+)|(\\. )|(\\.\" )|(\\? )|(\\?\" )', orig_text)"
      ],
      "metadata": {
        "id": "jP3UUcUhF2rR"
      },
      "execution_count": null,
      "outputs": []
    },
    {
      "cell_type": "code",
      "source": [
        "rsp_2 = list(filter(None, rsp))"
      ],
      "metadata": {
        "id": "kePazvtbOp07"
      },
      "execution_count": null,
      "outputs": []
    },
    {
      "cell_type": "code",
      "source": [
        "rsp_2.append('')"
      ],
      "metadata": {
        "id": "B8fC0uXVEubY"
      },
      "execution_count": null,
      "outputs": []
    },
    {
      "cell_type": "code",
      "source": [
        "print (rsp_2)"
      ],
      "metadata": {
        "colab": {
          "base_uri": "https://localhost:8080/"
        },
        "id": "GzxRCNjdFPv5",
        "outputId": "92ba3231-f1f2-4a67-b0b5-547e0b47353a"
      },
      "execution_count": null,
      "outputs": [
        {
          "output_type": "stream",
          "name": "stdout",
          "text": [
            "['Little Red Riding Hood', '\\n\\n', 'Once upon a time there was a sweet little girl', '. ', 'Everyone who saw her liked her, but most of all her grandmother, who did not know what to give the child next', '. ', 'Once she gave her a little cap made of red velvet', '. ', 'Because it suited her so well, and she wanted to wear it all the time, she came to be known as Little Red Riding Hood', '. ', 'One day her mother said to her: \"Come Little Red Riding Hood', '. ', 'Here is a piece of cake and a bottle of wine', '. ', 'Take them to your grandmother', '. ', 'She is sick and weak, and they will do her well', '. ', 'Mind your manners and give her my greetings', '. ', 'Behave yourself on the way, and do not leave the path, or you might fall down and break the glass, and then there will be nothing for your sick grandmother.\"', '\\n\\n', 'Little Red Riding Hood promised to obey her mother', '. ', 'The grandmother lived out in the woods, a half hour from the village', '. ', 'When Little Red Riding Hood entered the woods a wolf came up to her', '. ', 'She did not know what a wicked animal he was, and was not afraid of him', '. ', '\"Good day to you, Little Red Riding Hood', '.\" ', '- \"Thank you, wolf', '.\" ', '- \"Where are you going so early, Little Red Riding Hood', '?\" ', '- \"To grandmother\\'s', '.\" ', '- \"And what are you carrying under your apron', '?\" ', '- \"Grandmother is sick and weak, and I am taking her some cake and wine', '. ', 'We baked yesterday, and they should give her strength', '.\" ', '- \"Little Red Riding Hood, just where does your grandmother live', '?\" ', '- \"Her house is a good quarter hour from here in the woods, under the three large oak trees', '. ', \"There's a hedge of hazel bushes there\", '. ', 'You must know the place,\" said Little Red Riding Hood', '. ', 'The wolf thought to himself: \"Now there is a tasty bite for me', '. ', 'Just how are you going to catch her', '?\" ', 'Then he said: \"Listen, Little Red Riding Hood, haven\\'t you seen the beautiful flowers that are blossoming in the woods', '? ', \"Why don't you go and take a look\", '? ', \"And I don't believe you can hear how beautifully the birds are singing\", '. ', 'You are walking along as though you were on your way to school in the village', '. ', 'It is very beautiful in the woods.\"', '\\n\\n', 'Little Red Riding Hood opened her eyes and saw the sunlight breaking through the trees and how the ground was covered with beautiful flowers', '. ', 'She thought: \"If a take a bouquet to grandmother, she will be very pleased', '. ', \"Anyway, it is still early, and I'll be home on time\", '.\" ', 'And she ran off into the woods looking for flowers', '. ', 'Each time she picked one she thought that she could see an even more beautiful one a little way off, and she ran after it, going further and further into the woods', '. ', \"But the wolf ran straight to the grandmother's house and knocked on the door\", '. ', '\"Who\\'s there', '?\" ', '- \"Little Red Riding Hood', '. ', \"I'm bringing you some cake and wine\", '. ', 'Open the door for me', '.\" ', '- \"Just press the latch,\" called out the grandmother', '. ', '\"I\\'m too weak to get up', '.\" ', 'The wolf pressed the latch, and the door opened', '. ', \"He stepped inside, went straight to the grandmother's bed, and ate her up\", '. ', 'Then he took her clothes, put them on, and put her cap on his head', '. ', 'He got into her bed and pulled the curtains shut.', '\\n\\n', \"Little Red Riding Hood had run after flowers, and did not continue on her way to grandmother's until she had gathered all that she could carry\", '. ', 'When she arrived, she found, to her surprise, that the door was open', '. ', 'She walked into the parlor, and everything looked so strange that she thought: \"Oh, my God, why am I so afraid', '? ', \"I usually like it at grandmother's\", '.\" ', 'Then she went to the bed and pulled back the curtains', '. ', 'Grandmother was lying there with her cap pulled down over her face and looking very strange', '. ', '\"Oh, grandmother, what big ears you have!\" - \"All the better to hear you with', '.\" ', '- \"Oh, grandmother, what big eyes you have!\" - \"All the better to see you with', '.\" ', '- \"Oh, grandmother, what big hands you have!\" - \"All the better to grab you with!\" - \"Oh, grandmother, what a horribly big mouth you have!\" - \"All the better to eat you with!\" And with that he jumped out of bed, jumped on top of poor Little Red Riding Hood, and ate her up.', '\\n\\n', 'As soon as the wolf had finished this tasty bite, he climbed back into bed, fell asleep, and began to snore very loudly', '. ', 'A huntsman was just passing by', '. ', 'He thought it strange that the old woman was snoring so loudly, so he decided to take a look', '. ', 'He stepped inside, and in the bed there lay the wolf that he had been hunting for such a long time', '. ', '\"He has eaten the grandmother, but perhaps she still can be saved', '. ', 'I won\\'t shoot him,\" thought the huntsman', '. ', 'So he took a pair of scissors and cut open his belly', '. ', 'He had cut only a few strokes when he saw the red cap shining through', '. ', 'He cut a little more, and the girl jumped out and cried: \"Oh, I was so frightened! It was so dark inside the wolf\\'s body!\" And then the grandmother came out alive as well', '. ', 'Then Little Red Riding Hood fetched some large heavy stones', '. ', \"They filled the wolf's body with them, and when he woke up and tried to run away, the stones were so heavy that he fell down dead.\", '\\n\\n', 'The three of them were happy', '. ', \"The huntsman took the wolf's pelt\", '. ', 'The grandmother ate the cake and drank the wine that Little Red Riding Hood had brought', '. ', 'And Little Red Riding Hood thought to herself: \"As long as I live, I will never leave the path and run off into the woods by myself if mother tells me not to.\"', '\\n\\n\\n', 'They also tell how Little Red Riding Hood was taking some baked things to her grandmother another time, when another wolf spoke to her and wanted her to leave the path', '. ', \"But Little Red Riding Hood took care and went straight to grandmother's\", '. ', 'She told her that she had seen the wolf, and that he had wished her a good day, but had stared at her in a wicked manner', '. ', '\"If we hadn\\'t been on a public road, he would have eaten me up,\" she said', '. ', '\"Come,\" said the grandmother', '. ', '\"Let\\'s lock the door, so he can\\'t get in', '.\" ', 'Soon afterward the wolf knocked on the door and called out: \"Open up, grandmother', '. ', \"It's Little Red Riding Hood, and I'm bringing you some baked things\", '.\" ', 'They remained silent, and did not open the door', '. ', 'The wicked one walked around the house several times, and finally jumped onto the roof', '. ', 'He wanted to wait until Little Red Riding Hood went home that evening, then follow her and eat her up in the darkness', '. ', 'But the grandmother saw what he was up to', '. ', 'There was a large stone trough in front of the house', '. ', '\"Fetch a bucket, Little Red Riding Hood,\" she said', '. ', '\"Yesterday I cooked some sausage', '. ', 'Carry the water that I boiled them with to the trough', '.\" ', 'Little Red Riding Hood carried water until the large, large trough was clear full', '. ', \"The smell of sausage arose into the wolf's nose\", '. ', 'He sniffed and looked down, stretching his neck so long that he could no longer hold himself, and he began to slide', '. ', 'He slid off the roof, fell into the trough, and drowned', '. ', 'And Little Red Riding Hood returned home happily and safely.', '']\n"
          ]
        }
      ]
    },
    {
      "cell_type": "code",
      "source": [
        "df = pd.DataFrame(columns=['pars', 'sep'])\n",
        "df['pars'] = [v for k,v in enumerate(rsp_2) if not k%2]\n",
        "df['sep'] = [v for k,v in enumerate(rsp_2) if k%2]"
      ],
      "metadata": {
        "id": "IxD52EthSyxQ"
      },
      "execution_count": null,
      "outputs": []
    },
    {
      "cell_type": "code",
      "source": [
        "df['origin']=df['pars']+df['sep']"
      ],
      "metadata": {
        "id": "bAkMTm_wBjgd"
      },
      "execution_count": null,
      "outputs": []
    },
    {
      "cell_type": "code",
      "source": [
        "display (df.head(5))"
      ],
      "metadata": {
        "colab": {
          "base_uri": "https://localhost:8080/",
          "height": 206
        },
        "id": "7RpV7RSZTdpn",
        "outputId": "22f4e714-5635-4157-e866-c86ba7e54aec"
      },
      "execution_count": null,
      "outputs": [
        {
          "output_type": "display_data",
          "data": {
            "text/plain": [
              "                                                pars   sep  \\\n",
              "0                             Little Red Riding Hood  \\n\\n   \n",
              "1     Once upon a time there was a sweet little girl    .    \n",
              "2  Everyone who saw her liked her, but most of al...    .    \n",
              "3  Once she gave her a little cap made of red velvet    .    \n",
              "4  Because it suited her so well, and she wanted ...    .    \n",
              "\n",
              "                                              origin  \n",
              "0                         Little Red Riding Hood\\n\\n  \n",
              "1   Once upon a time there was a sweet little girl.   \n",
              "2  Everyone who saw her liked her, but most of al...  \n",
              "3  Once she gave her a little cap made of red vel...  \n",
              "4  Because it suited her so well, and she wanted ...  "
            ],
            "text/html": [
              "\n",
              "  <div id=\"df-c05bf49a-6c53-4e9a-be8b-7aef38499dac\">\n",
              "    <div class=\"colab-df-container\">\n",
              "      <div>\n",
              "<style scoped>\n",
              "    .dataframe tbody tr th:only-of-type {\n",
              "        vertical-align: middle;\n",
              "    }\n",
              "\n",
              "    .dataframe tbody tr th {\n",
              "        vertical-align: top;\n",
              "    }\n",
              "\n",
              "    .dataframe thead th {\n",
              "        text-align: right;\n",
              "    }\n",
              "</style>\n",
              "<table border=\"1\" class=\"dataframe\">\n",
              "  <thead>\n",
              "    <tr style=\"text-align: right;\">\n",
              "      <th></th>\n",
              "      <th>pars</th>\n",
              "      <th>sep</th>\n",
              "      <th>origin</th>\n",
              "    </tr>\n",
              "  </thead>\n",
              "  <tbody>\n",
              "    <tr>\n",
              "      <th>0</th>\n",
              "      <td>Little Red Riding Hood</td>\n",
              "      <td>\\n\\n</td>\n",
              "      <td>Little Red Riding Hood\\n\\n</td>\n",
              "    </tr>\n",
              "    <tr>\n",
              "      <th>1</th>\n",
              "      <td>Once upon a time there was a sweet little girl</td>\n",
              "      <td>.</td>\n",
              "      <td>Once upon a time there was a sweet little girl.</td>\n",
              "    </tr>\n",
              "    <tr>\n",
              "      <th>2</th>\n",
              "      <td>Everyone who saw her liked her, but most of al...</td>\n",
              "      <td>.</td>\n",
              "      <td>Everyone who saw her liked her, but most of al...</td>\n",
              "    </tr>\n",
              "    <tr>\n",
              "      <th>3</th>\n",
              "      <td>Once she gave her a little cap made of red velvet</td>\n",
              "      <td>.</td>\n",
              "      <td>Once she gave her a little cap made of red vel...</td>\n",
              "    </tr>\n",
              "    <tr>\n",
              "      <th>4</th>\n",
              "      <td>Because it suited her so well, and she wanted ...</td>\n",
              "      <td>.</td>\n",
              "      <td>Because it suited her so well, and she wanted ...</td>\n",
              "    </tr>\n",
              "  </tbody>\n",
              "</table>\n",
              "</div>\n",
              "      <button class=\"colab-df-convert\" onclick=\"convertToInteractive('df-c05bf49a-6c53-4e9a-be8b-7aef38499dac')\"\n",
              "              title=\"Convert this dataframe to an interactive table.\"\n",
              "              style=\"display:none;\">\n",
              "        \n",
              "  <svg xmlns=\"http://www.w3.org/2000/svg\" height=\"24px\"viewBox=\"0 0 24 24\"\n",
              "       width=\"24px\">\n",
              "    <path d=\"M0 0h24v24H0V0z\" fill=\"none\"/>\n",
              "    <path d=\"M18.56 5.44l.94 2.06.94-2.06 2.06-.94-2.06-.94-.94-2.06-.94 2.06-2.06.94zm-11 1L8.5 8.5l.94-2.06 2.06-.94-2.06-.94L8.5 2.5l-.94 2.06-2.06.94zm10 10l.94 2.06.94-2.06 2.06-.94-2.06-.94-.94-2.06-.94 2.06-2.06.94z\"/><path d=\"M17.41 7.96l-1.37-1.37c-.4-.4-.92-.59-1.43-.59-.52 0-1.04.2-1.43.59L10.3 9.45l-7.72 7.72c-.78.78-.78 2.05 0 2.83L4 21.41c.39.39.9.59 1.41.59.51 0 1.02-.2 1.41-.59l7.78-7.78 2.81-2.81c.8-.78.8-2.07 0-2.86zM5.41 20L4 18.59l7.72-7.72 1.47 1.35L5.41 20z\"/>\n",
              "  </svg>\n",
              "      </button>\n",
              "      \n",
              "  <style>\n",
              "    .colab-df-container {\n",
              "      display:flex;\n",
              "      flex-wrap:wrap;\n",
              "      gap: 12px;\n",
              "    }\n",
              "\n",
              "    .colab-df-convert {\n",
              "      background-color: #E8F0FE;\n",
              "      border: none;\n",
              "      border-radius: 50%;\n",
              "      cursor: pointer;\n",
              "      display: none;\n",
              "      fill: #1967D2;\n",
              "      height: 32px;\n",
              "      padding: 0 0 0 0;\n",
              "      width: 32px;\n",
              "    }\n",
              "\n",
              "    .colab-df-convert:hover {\n",
              "      background-color: #E2EBFA;\n",
              "      box-shadow: 0px 1px 2px rgba(60, 64, 67, 0.3), 0px 1px 3px 1px rgba(60, 64, 67, 0.15);\n",
              "      fill: #174EA6;\n",
              "    }\n",
              "\n",
              "    [theme=dark] .colab-df-convert {\n",
              "      background-color: #3B4455;\n",
              "      fill: #D2E3FC;\n",
              "    }\n",
              "\n",
              "    [theme=dark] .colab-df-convert:hover {\n",
              "      background-color: #434B5C;\n",
              "      box-shadow: 0px 1px 3px 1px rgba(0, 0, 0, 0.15);\n",
              "      filter: drop-shadow(0px 1px 2px rgba(0, 0, 0, 0.3));\n",
              "      fill: #FFFFFF;\n",
              "    }\n",
              "  </style>\n",
              "\n",
              "      <script>\n",
              "        const buttonEl =\n",
              "          document.querySelector('#df-c05bf49a-6c53-4e9a-be8b-7aef38499dac button.colab-df-convert');\n",
              "        buttonEl.style.display =\n",
              "          google.colab.kernel.accessAllowed ? 'block' : 'none';\n",
              "\n",
              "        async function convertToInteractive(key) {\n",
              "          const element = document.querySelector('#df-c05bf49a-6c53-4e9a-be8b-7aef38499dac');\n",
              "          const dataTable =\n",
              "            await google.colab.kernel.invokeFunction('convertToInteractive',\n",
              "                                                     [key], {});\n",
              "          if (!dataTable) return;\n",
              "\n",
              "          const docLinkHtml = 'Like what you see? Visit the ' +\n",
              "            '<a target=\"_blank\" href=https://colab.research.google.com/notebooks/data_table.ipynb>data table notebook</a>'\n",
              "            + ' to learn more about interactive tables.';\n",
              "          element.innerHTML = '';\n",
              "          dataTable['output_type'] = 'display_data';\n",
              "          await google.colab.output.renderOutput(dataTable, element);\n",
              "          const docLink = document.createElement('div');\n",
              "          docLink.innerHTML = docLinkHtml;\n",
              "          element.appendChild(docLink);\n",
              "        }\n",
              "      </script>\n",
              "    </div>\n",
              "  </div>\n",
              "  "
            ]
          },
          "metadata": {}
        }
      ]
    },
    {
      "cell_type": "code",
      "source": [
        "start_point = 0\n",
        "step_point = 10\n",
        "for i in range (start_point, start_point + step_point):\n",
        "  stroka = df.loc[i,'origin']\n",
        "  print (stroka)"
      ],
      "metadata": {
        "colab": {
          "base_uri": "https://localhost:8080/"
        },
        "id": "ul2TeyZTZRfT",
        "outputId": "82d080a2-abb8-4d56-ebfd-31b00856d88d"
      },
      "execution_count": null,
      "outputs": [
        {
          "output_type": "stream",
          "name": "stdout",
          "text": [
            "Little Red Riding Hood\n",
            "\n",
            "\n",
            "Once upon a time there was a sweet little girl. \n",
            "Everyone who saw her liked her, but most of all her grandmother, who did not know what to give the child next. \n",
            "Once she gave her a little cap made of red velvet. \n",
            "Because it suited her so well, and she wanted to wear it all the time, she came to be known as Little Red Riding Hood. \n",
            "One day her mother said to her: \"Come Little Red Riding Hood. \n",
            "Here is a piece of cake and a bottle of wine. \n",
            "Take them to your grandmother. \n",
            "She is sick and weak, and they will do her well. \n",
            "Mind your manners and give her my greetings. \n"
          ]
        }
      ]
    },
    {
      "cell_type": "code",
      "source": [
        "start_point = 0\n",
        "step_point = 10\n",
        "for i in range (start_point, start_point + step_point):\n",
        "  stroka = df.loc[i,'origin']\n",
        "  print (stroka)"
      ],
      "metadata": {
        "id": "WfsWaXd01SEI"
      },
      "execution_count": null,
      "outputs": []
    }
  ]
}